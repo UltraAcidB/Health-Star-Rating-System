{
 "cells": [
  {
   "cell_type": "code",
   "execution_count": 1,
   "metadata": {},
   "outputs": [
    {
     "name": "stdout",
     "output_type": "stream",
     "text": [
      "WARNING:tensorflow:From d:\\Python\\Python311\\Lib\\site-packages\\keras\\src\\losses.py:2976: The name tf.losses.sparse_softmax_cross_entropy is deprecated. Please use tf.compat.v1.losses.sparse_softmax_cross_entropy instead.\n",
      "\n"
     ]
    }
   ],
   "source": [
    "import tensorflow as tensorflow\n",
    "import pandas as pd \n",
    "import h5py\n",
    "import os"
   ]
  },
  {
   "cell_type": "markdown",
   "metadata": {},
   "source": [
    "# Preparing data"
   ]
  },
  {
   "cell_type": "code",
   "execution_count": 2,
   "metadata": {},
   "outputs": [],
   "source": [
    "TRAIN_PATH = 'D:/Projects/HealthStarRating/Food-data/Images/Train'\n",
    "VALIDATE_PATH = 'D:/Projects/HealthStarRating/Food-data/Images/Validate'\n",
    "TEST_PATH = 'D:/Projects/HealthStarRating/Food-data/Images/Test'\n",
    "\n",
    "MODELS_PATH = 'D:/Projects/HealthStarRating/Models'\n",
    "BEST_MODEL = 'fine_tune_model_best.hdf5'\n",
    "\n",
    "IMAGE_SIZE = (300, 300)\n",
    "BATCH_SIZE = 128"
   ]
  },
  {
   "cell_type": "code",
   "execution_count": 3,
   "metadata": {},
   "outputs": [],
   "source": [
    "from keras.preprocessing.image import ImageDataGenerator\n",
    "train_generator = ImageDataGenerator(\n",
    "    rescale = 1./255,\n",
    "    rotation_range = 40, \n",
    "    width_shift_range = 0.2, \n",
    "    height_shift_range = 0.2,\n",
    "    shear_range = 0.2,\n",
    "    zoom_range = 0.2,\n",
    "    horizontal_flip = True\n",
    ")\n",
    "validate_generator = ImageDataGenerator(rescale=1./255)\n",
    "test_generator = ImageDataGenerator(rescale=1./255)"
   ]
  },
  {
   "cell_type": "code",
   "execution_count": 4,
   "metadata": {},
   "outputs": [
    {
     "name": "stdout",
     "output_type": "stream",
     "text": [
      "Found 36254 images belonging to 40 classes.\n",
      "Found 4521 images belonging to 40 classes.\n",
      "Found 4560 images belonging to 40 classes.\n"
     ]
    }
   ],
   "source": [
    "generated_train_data = train_generator.flow_from_directory(TRAIN_PATH, target_size=IMAGE_SIZE, batch_size=BATCH_SIZE)\n",
    "generated_validate_data = validate_generator.flow_from_directory(VALIDATE_PATH, target_size=IMAGE_SIZE, batch_size=BATCH_SIZE)\n",
    "generated_test_data = test_generator.flow_from_directory(TEST_PATH, target_size=IMAGE_SIZE)"
   ]
  },
  {
   "cell_type": "markdown",
   "metadata": {},
   "source": [
    "# EVALUATION"
   ]
  },
  {
   "cell_type": "code",
   "execution_count": 5,
   "metadata": {},
   "outputs": [],
   "source": [
    "from keras.models import load_model\n",
    "from keras.optimizers import SGD\n",
    "from keras.metrics import TopKCategoricalAccuracy\n",
    "from tqdm.notebook import tqdm\n",
    "validate_results = {}\n",
    "test_results = {}"
   ]
  },
  {
   "cell_type": "code",
   "execution_count": 6,
   "metadata": {},
   "outputs": [
    {
     "data": {
      "application/vnd.jupyter.widget-view+json": {
       "model_id": "1ee5f289994247749696ef0715a5f885",
       "version_major": 2,
       "version_minor": 0
      },
      "text/plain": [
       "  0%|          | 0/7 [00:00<?, ?it/s]"
      ]
     },
     "metadata": {},
     "output_type": "display_data"
    },
    {
     "name": "stdout",
     "output_type": "stream",
     "text": [
      "\n",
      "========== Evaluate InceptionResNetV2 Model ==========\n",
      "WARNING:tensorflow:From d:\\Python\\Python311\\Lib\\site-packages\\keras\\src\\backend.py:1398: The name tf.executing_eagerly_outside_functions is deprecated. Please use tf.compat.v1.executing_eagerly_outside_functions instead.\n",
      "\n",
      "WARNING:tensorflow:From d:\\Python\\Python311\\Lib\\site-packages\\keras\\src\\layers\\pooling\\max_pooling2d.py:161: The name tf.nn.max_pool is deprecated. Please use tf.nn.max_pool2d instead.\n",
      "\n",
      "Validate dataset:\n",
      "WARNING:tensorflow:From d:\\Python\\Python311\\Lib\\site-packages\\keras\\src\\utils\\tf_utils.py:492: The name tf.ragged.RaggedTensorValue is deprecated. Please use tf.compat.v1.ragged.RaggedTensorValue instead.\n",
      "\n",
      "WARNING:tensorflow:From d:\\Python\\Python311\\Lib\\site-packages\\keras\\src\\engine\\base_layer_utils.py:384: The name tf.executing_eagerly_outside_functions is deprecated. Please use tf.compat.v1.executing_eagerly_outside_functions instead.\n",
      "\n",
      "36/36 [==============================] - 328s 9s/step - loss: 0.5600 - accuracy: 0.8326 - top_3_accuracy: 0.9509 - top_5_accuracy: 0.9790\n",
      "Test dataset:\n",
      "143/143 [==============================] - 332s 2s/step - loss: 0.5962 - accuracy: 0.8213 - top_3_accuracy: 0.9436 - top_5_accuracy: 0.9717\n",
      "\n",
      "========== Evaluate InceptionV3 Model ==========\n",
      "Validate dataset:\n",
      "36/36 [==============================] - 121s 3s/step - loss: 0.6209 - accuracy: 0.8160 - top_3_accuracy: 0.9427 - top_5_accuracy: 0.9730\n",
      "Test dataset:\n",
      "143/143 [==============================] - 122s 849ms/step - loss: 0.6377 - accuracy: 0.8099 - top_3_accuracy: 0.9399 - top_5_accuracy: 0.9673\n",
      "\n",
      "========== Evaluate ResNet101V2 Model ==========\n",
      "Validate dataset:\n",
      "36/36 [==============================] - 332s 9s/step - loss: 0.5699 - accuracy: 0.8487 - top_3_accuracy: 0.9562 - top_5_accuracy: 0.9783\n",
      "Test dataset:\n",
      "143/143 [==============================] - 345s 2s/step - loss: 0.5905 - accuracy: 0.8377 - top_3_accuracy: 0.9533 - top_5_accuracy: 0.9781\n",
      "\n",
      "========== Evaluate ResNet152V2 Model ==========\n",
      "Validate dataset:\n",
      "36/36 [==============================] - 493s 14s/step - loss: 0.5180 - accuracy: 0.8589 - top_3_accuracy: 0.9586 - top_5_accuracy: 0.9834\n",
      "Test dataset:\n",
      "143/143 [==============================] - 563s 4s/step - loss: 0.5105 - accuracy: 0.8592 - top_3_accuracy: 0.9594 - top_5_accuracy: 0.9787\n",
      "\n",
      "========== Evaluate ResNet50V2 Model ==========\n",
      "Validate dataset:\n",
      "36/36 [==============================] - 193s 5s/step - loss: 0.5705 - accuracy: 0.8414 - top_3_accuracy: 0.9518 - top_5_accuracy: 0.9772\n",
      "Test dataset:\n",
      "143/143 [==============================] - 202s 1s/step - loss: 0.5532 - accuracy: 0.8465 - top_3_accuracy: 0.9555 - top_5_accuracy: 0.9783\n",
      "\n",
      "========== Evaluate Xception Model ==========\n",
      "Validate dataset:\n",
      "36/36 [==============================] - 353s 10s/step - loss: 0.5380 - accuracy: 0.8443 - top_3_accuracy: 0.9571 - top_5_accuracy: 0.9768\n",
      "Test dataset:\n",
      "143/143 [==============================] - 311s 2s/step - loss: 0.5603 - accuracy: 0.8406 - top_3_accuracy: 0.9498 - top_5_accuracy: 0.9763\n"
     ]
    }
   ],
   "source": [
    "for folder in tqdm(os.listdir(MODELS_PATH)):\n",
    "    model_folder = os.path.join(MODELS_PATH, folder)\n",
    "    if BEST_MODEL in os.listdir(model_folder):\n",
    "        print('\\n========== Evaluate', folder, 'Model ==========')\n",
    "        model = load_model(os.path.join(model_folder, BEST_MODEL))\n",
    "        model.compile(\n",
    "            optimizer = SGD(learning_rate=1e-4, momentum=0.9),\n",
    "            loss = 'categorical_crossentropy', \n",
    "            metrics = [\n",
    "                'accuracy', \n",
    "                TopKCategoricalAccuracy(k=3, name='top_3_accuracy'), \n",
    "                TopKCategoricalAccuracy(k=5, name='top_5_accuracy')\n",
    "            ]\n",
    "        )\n",
    "        print('Validate dataset:')\n",
    "        validate_results[folder] = model.evaluate(generated_validate_data)\n",
    "        print('Test dataset:', )\n",
    "        test_results[folder] = model.evaluate(generated_test_data)"
   ]
  },
  {
   "cell_type": "code",
   "execution_count": 7,
   "metadata": {},
   "outputs": [
    {
     "data": {
      "text/html": [
       "<div>\n",
       "<style scoped>\n",
       "    .dataframe tbody tr th:only-of-type {\n",
       "        vertical-align: middle;\n",
       "    }\n",
       "\n",
       "    .dataframe tbody tr th {\n",
       "        vertical-align: top;\n",
       "    }\n",
       "\n",
       "    .dataframe thead th {\n",
       "        text-align: right;\n",
       "    }\n",
       "</style>\n",
       "<table border=\"1\" class=\"dataframe\">\n",
       "  <thead>\n",
       "    <tr style=\"text-align: right;\">\n",
       "      <th></th>\n",
       "      <th>Accuracy</th>\n",
       "      <th>Top 3 Accuracy</th>\n",
       "      <th>Top 5 Accuracy</th>\n",
       "    </tr>\n",
       "  </thead>\n",
       "  <tbody>\n",
       "    <tr>\n",
       "      <th>ResNet152V2</th>\n",
       "      <td>0.858881</td>\n",
       "      <td>0.958637</td>\n",
       "      <td>0.983411</td>\n",
       "    </tr>\n",
       "    <tr>\n",
       "      <th>ResNet101V2</th>\n",
       "      <td>0.848706</td>\n",
       "      <td>0.956204</td>\n",
       "      <td>0.978323</td>\n",
       "    </tr>\n",
       "    <tr>\n",
       "      <th>Xception</th>\n",
       "      <td>0.844282</td>\n",
       "      <td>0.957089</td>\n",
       "      <td>0.976775</td>\n",
       "    </tr>\n",
       "    <tr>\n",
       "      <th>ResNet50V2</th>\n",
       "      <td>0.841407</td>\n",
       "      <td>0.951781</td>\n",
       "      <td>0.977217</td>\n",
       "    </tr>\n",
       "    <tr>\n",
       "      <th>InceptionResNetV2</th>\n",
       "      <td>0.832559</td>\n",
       "      <td>0.950896</td>\n",
       "      <td>0.978987</td>\n",
       "    </tr>\n",
       "    <tr>\n",
       "      <th>InceptionV3</th>\n",
       "      <td>0.815970</td>\n",
       "      <td>0.942712</td>\n",
       "      <td>0.973015</td>\n",
       "    </tr>\n",
       "  </tbody>\n",
       "</table>\n",
       "</div>"
      ],
      "text/plain": [
       "                   Accuracy  Top 3 Accuracy  Top 5 Accuracy\n",
       "ResNet152V2        0.858881        0.958637        0.983411\n",
       "ResNet101V2        0.848706        0.956204        0.978323\n",
       "Xception           0.844282        0.957089        0.976775\n",
       "ResNet50V2         0.841407        0.951781        0.977217\n",
       "InceptionResNetV2  0.832559        0.950896        0.978987\n",
       "InceptionV3        0.815970        0.942712        0.973015"
      ]
     },
     "execution_count": 7,
     "metadata": {},
     "output_type": "execute_result"
    }
   ],
   "source": [
    "validate_report = pd.DataFrame.from_dict(validate_results, orient='index').iloc[:, 1:]\n",
    "validate_report.columns = ['Accuracy', 'Top 3 Accuracy', 'Top 5 Accuracy']\n",
    "validate_report.sort_values(by=['Accuracy'], ascending=False)"
   ]
  },
  {
   "cell_type": "code",
   "execution_count": 8,
   "metadata": {},
   "outputs": [
    {
     "data": {
      "text/html": [
       "<div>\n",
       "<style scoped>\n",
       "    .dataframe tbody tr th:only-of-type {\n",
       "        vertical-align: middle;\n",
       "    }\n",
       "\n",
       "    .dataframe tbody tr th {\n",
       "        vertical-align: top;\n",
       "    }\n",
       "\n",
       "    .dataframe thead th {\n",
       "        text-align: right;\n",
       "    }\n",
       "</style>\n",
       "<table border=\"1\" class=\"dataframe\">\n",
       "  <thead>\n",
       "    <tr style=\"text-align: right;\">\n",
       "      <th></th>\n",
       "      <th>Accuracy</th>\n",
       "      <th>Top 3 Accuracy</th>\n",
       "      <th>Top 5 Accuracy</th>\n",
       "    </tr>\n",
       "  </thead>\n",
       "  <tbody>\n",
       "    <tr>\n",
       "      <th>ResNet152V2</th>\n",
       "      <td>0.859211</td>\n",
       "      <td>0.959430</td>\n",
       "      <td>0.978728</td>\n",
       "    </tr>\n",
       "    <tr>\n",
       "      <th>ResNet50V2</th>\n",
       "      <td>0.846491</td>\n",
       "      <td>0.955482</td>\n",
       "      <td>0.978289</td>\n",
       "    </tr>\n",
       "    <tr>\n",
       "      <th>Xception</th>\n",
       "      <td>0.840570</td>\n",
       "      <td>0.949781</td>\n",
       "      <td>0.976316</td>\n",
       "    </tr>\n",
       "    <tr>\n",
       "      <th>ResNet101V2</th>\n",
       "      <td>0.837719</td>\n",
       "      <td>0.953289</td>\n",
       "      <td>0.978070</td>\n",
       "    </tr>\n",
       "    <tr>\n",
       "      <th>InceptionResNetV2</th>\n",
       "      <td>0.821272</td>\n",
       "      <td>0.943640</td>\n",
       "      <td>0.971711</td>\n",
       "    </tr>\n",
       "    <tr>\n",
       "      <th>InceptionV3</th>\n",
       "      <td>0.809868</td>\n",
       "      <td>0.939912</td>\n",
       "      <td>0.967325</td>\n",
       "    </tr>\n",
       "  </tbody>\n",
       "</table>\n",
       "</div>"
      ],
      "text/plain": [
       "                   Accuracy  Top 3 Accuracy  Top 5 Accuracy\n",
       "ResNet152V2        0.859211        0.959430        0.978728\n",
       "ResNet50V2         0.846491        0.955482        0.978289\n",
       "Xception           0.840570        0.949781        0.976316\n",
       "ResNet101V2        0.837719        0.953289        0.978070\n",
       "InceptionResNetV2  0.821272        0.943640        0.971711\n",
       "InceptionV3        0.809868        0.939912        0.967325"
      ]
     },
     "execution_count": 8,
     "metadata": {},
     "output_type": "execute_result"
    }
   ],
   "source": [
    "test_report = pd.DataFrame.from_dict(test_results, orient='index').iloc[:, 1:]\n",
    "test_report.columns = ['Accuracy', 'Top 3 Accuracy', 'Top 5 Accuracy']\n",
    "test_report.sort_values(by=['Accuracy'], ascending=False)"
   ]
  }
 ],
 "metadata": {
  "kernelspec": {
   "display_name": "Python 3",
   "language": "python",
   "name": "python3"
  },
  "language_info": {
   "codemirror_mode": {
    "name": "ipython",
    "version": 3
   },
   "file_extension": ".py",
   "mimetype": "text/x-python",
   "name": "python",
   "nbconvert_exporter": "python",
   "pygments_lexer": "ipython3",
   "version": "3.11.5"
  }
 },
 "nbformat": 4,
 "nbformat_minor": 2
}
